{
 "cells": [
  {
   "cell_type": "code",
   "execution_count": 4,
   "id": "98bf0676-2f1e-411d-8984-cb80302345b2",
   "metadata": {},
   "outputs": [],
   "source": [
    "import torch\n",
    "from pathlib import Path\n",
    "from ultralytics import YOLO"
   ]
  },
  {
   "cell_type": "code",
   "execution_count": 5,
   "id": "e28f7a49-526c-4b7e-a9fa-c90c97bdc08e",
   "metadata": {},
   "outputs": [
    {
     "name": "stdout",
     "output_type": "stream",
     "text": [
      "True\n",
      "NVIDIA GeForce RTX 2070 SUPER\n"
     ]
    }
   ],
   "source": [
    "print(torch.cuda.is_available())\n",
    "print(torch.cuda.get_device_name(0)) "
   ]
  },
  {
   "cell_type": "code",
   "execution_count": 8,
   "id": "efe60d81-98fb-4aa7-93ef-70644c3239de",
   "metadata": {},
   "outputs": [
    {
     "name": "stdout",
     "output_type": "stream",
     "text": [
      "Arquivo dataset.yaml criado com sucesso!\n"
     ]
    }
   ],
   "source": [
    "dataset_yaml = \"\"\"\n",
    "train: C:/Users/User/Documents/GitHub/CNN_EPI/data/images/train\n",
    "val: C:/Users/User/Documents/GitHub/CNN_EPI/data/images/test\n",
    "test: C:/Users/User/Documents/GitHub/CNN_EPI/data/images/val\n",
    "\n",
    "nc: 10  \n",
    "names: ['Capacete', 'Luvas', 'Colete', 'Botas', 'Oculos', 'Nada', 'Sem_capacete', 'Sem_oculos', 'Sem_luvas', 'Sem_botas'] \n",
    "\"\"\"\n",
    "\n",
    "with open(\"dataset.yaml\", \"w\") as f:\n",
    "    f.write(dataset_yaml)\n",
    "\n",
    "print(\"Arquivo dataset.yaml criado com sucesso!\")"
   ]
  },
  {
   "cell_type": "code",
   "execution_count": 9,
   "id": "c88bd3ef-f2dc-4d05-8291-bf034fe27bf9",
   "metadata": {},
   "outputs": [
    {
     "name": "stdout",
     "output_type": "stream",
     "text": [
      "Downloading https://github.com/ultralytics/assets/releases/download/v8.3.0/yolov8n.pt to 'yolov8n.pt'...\n"
     ]
    },
    {
     "name": "stderr",
     "output_type": "stream",
     "text": [
      "100%|█████████████████████████████████████████████████████████████████████████████| 6.25M/6.25M [00:00<00:00, 14.4MB/s]\n"
     ]
    }
   ],
   "source": [
    "model = YOLO('yolov8n.pt')"
   ]
  },
  {
   "cell_type": "code",
   "execution_count": null,
   "id": "c3358660-c3e5-4d1f-9506-0f7c3a9298d7",
   "metadata": {},
   "outputs": [
    {
     "name": "stdout",
     "output_type": "stream",
     "text": [
      "Ultralytics 8.3.127  Python-3.10.16 torch-2.5.1 CUDA:0 (NVIDIA GeForce RTX 2070 SUPER, 8192MiB)\n",
      "\u001b[34m\u001b[1mengine\\trainer: \u001b[0magnostic_nms=False, amp=True, augment=False, auto_augment=randaugment, batch=16, bgr=0.0, box=7.5, cache=False, cfg=None, classes=None, close_mosaic=10, cls=0.5, conf=None, copy_paste=0.0, copy_paste_mode=flip, cos_lr=False, cutmix=0.0, data=dataset.yaml, degrees=0.0, deterministic=True, device=cuda:0, dfl=1.5, dnn=False, dropout=0.0, dynamic=False, embed=None, epochs=50, erasing=0.4, exist_ok=False, fliplr=0.5, flipud=0.0, format=torchscript, fraction=1.0, freeze=None, half=False, hsv_h=0.015, hsv_s=0.7, hsv_v=0.4, imgsz=640, int8=False, iou=0.7, keras=False, kobj=1.0, line_width=None, lr0=0.01, lrf=0.01, mask_ratio=4, max_det=300, mixup=0.0, mode=train, model=yolov8n.pt, momentum=0.937, mosaic=1.0, multi_scale=False, name=train, nbs=64, nms=False, opset=None, optimize=False, optimizer=auto, overlap_mask=True, patience=100, perspective=0.0, plots=True, pose=12.0, pretrained=True, profile=False, project=None, rect=False, resume=False, retina_masks=False, save=True, save_conf=False, save_crop=False, save_dir=runs\\detect\\train, save_frames=False, save_json=False, save_period=-1, save_txt=False, scale=0.5, seed=0, shear=0.0, show=False, show_boxes=True, show_conf=True, show_labels=True, simplify=True, single_cls=False, source=None, split=val, stream_buffer=False, task=detect, time=None, tracker=botsort.yaml, translate=0.1, val=True, verbose=True, vid_stride=1, visualize=False, warmup_bias_lr=0.1, warmup_epochs=3.0, warmup_momentum=0.8, weight_decay=0.0005, workers=8, workspace=None\n",
      "Downloading https://ultralytics.com/assets/Arial.ttf to 'C:\\Users\\User\\AppData\\Roaming\\Ultralytics\\Arial.ttf'...\n"
     ]
    },
    {
     "name": "stderr",
     "output_type": "stream",
     "text": [
      "100%|███████████████████████████████████████████████████████████████████████████████| 755k/755k [00:00<00:00, 7.13MB/s]"
     ]
    },
    {
     "name": "stdout",
     "output_type": "stream",
     "text": [
      "Overriding model.yaml nc=80 with nc=10\n",
      "\n",
      "                   from  n    params  module                                       arguments                     \n",
      "  0                  -1  1       464  ultralytics.nn.modules.conv.Conv             [3, 16, 3, 2]                 \n",
      "  1                  -1  1      4672  ultralytics.nn.modules.conv.Conv             [16, 32, 3, 2]                \n",
      "  2                  -1  1      7360  ultralytics.nn.modules.block.C2f             [32, 32, 1, True]             \n",
      "  3                  -1  1     18560  ultralytics.nn.modules.conv.Conv             [32, 64, 3, 2]                \n",
      "  4                  -1  2     49664  ultralytics.nn.modules.block.C2f             [64, 64, 2, True]             \n",
      "  5                  -1  1     73984  ultralytics.nn.modules.conv.Conv             [64, 128, 3, 2]               \n",
      "  6                  -1  2    197632  ultralytics.nn.modules.block.C2f             [128, 128, 2, True]           \n",
      "  7                  -1  1    295424  ultralytics.nn.modules.conv.Conv             [128, 256, 3, 2]              \n",
      "  8                  -1  1    460288  ultralytics.nn.modules.block.C2f             [256, 256, 1, True]           \n",
      "  9                  -1  1    164608  ultralytics.nn.modules.block.SPPF            [256, 256, 5]                 \n",
      " 10                  -1  1         0  torch.nn.modules.upsampling.Upsample         [None, 2, 'nearest']          \n",
      " 11             [-1, 6]  1         0  ultralytics.nn.modules.conv.Concat           [1]                           \n",
      " 12                  -1  1    148224  ultralytics.nn.modules.block.C2f             [384, 128, 1]                 \n",
      " 13                  -1  1         0  torch.nn.modules.upsampling.Upsample         [None, 2, 'nearest']          \n",
      " 14             [-1, 4]  1         0  ultralytics.nn.modules.conv.Concat           [1]                           \n",
      " 15                  -1  1     37248  ultralytics.nn.modules.block.C2f             [192, 64, 1]                  \n",
      " 16                  -1  1     36992  ultralytics.nn.modules.conv.Conv             [64, 64, 3, 2]                \n",
      " 17            [-1, 12]  1         0  ultralytics.nn.modules.conv.Concat           [1]                           \n",
      " 18                  -1  1    123648  ultralytics.nn.modules.block.C2f             [192, 128, 1]                 \n",
      " 19                  -1  1    147712  ultralytics.nn.modules.conv.Conv             [128, 128, 3, 2]              \n"
     ]
    },
    {
     "name": "stderr",
     "output_type": "stream",
     "text": [
      "\n"
     ]
    },
    {
     "name": "stdout",
     "output_type": "stream",
     "text": [
      " 20             [-1, 9]  1         0  ultralytics.nn.modules.conv.Concat           [1]                           \n",
      " 21                  -1  1    493056  ultralytics.nn.modules.block.C2f             [384, 256, 1]                 \n",
      " 22        [15, 18, 21]  1    753262  ultralytics.nn.modules.head.Detect           [10, [64, 128, 256]]          \n",
      "Model summary: 129 layers, 3,012,798 parameters, 3,012,782 gradients, 8.2 GFLOPs\n",
      "\n",
      "Transferred 319/355 items from pretrained weights\n",
      "Freezing layer 'model.22.dfl.conv.weight'\n",
      "\u001b[34m\u001b[1mAMP: \u001b[0mrunning Automatic Mixed Precision (AMP) checks...\n",
      "Downloading https://github.com/ultralytics/assets/releases/download/v8.3.0/yolo11n.pt to 'yolo11n.pt'...\n"
     ]
    },
    {
     "name": "stderr",
     "output_type": "stream",
     "text": [
      "100%|█████████████████████████████████████████████████████████████████████████████| 5.35M/5.35M [00:00<00:00, 13.7MB/s]\n"
     ]
    },
    {
     "name": "stdout",
     "output_type": "stream",
     "text": [
      "\u001b[34m\u001b[1mAMP: \u001b[0mchecks passed \n",
      "\u001b[34m\u001b[1mtrain: \u001b[0mFast image access  (ping: 0.10.1 ms, read: 516.9121.1 MB/s, size: 53.1 KB)\n"
     ]
    },
    {
     "name": "stderr",
     "output_type": "stream",
     "text": [
      "\u001b[34m\u001b[1mtrain: \u001b[0mScanning C:\\Users\\User\\Documents\\GitHub\\CNN_EPI\\data\\labels\\train... 1132 images, 0 backgrounds, 28 corrupt: 100\u001b[0m"
     ]
    },
    {
     "name": "stdout",
     "output_type": "stream",
     "text": [
      "\u001b[34m\u001b[1mtrain: \u001b[0mC:\\Users\\User\\Documents\\GitHub\\CNN_EPI\\data\\images\\train\\image1138.jpg: ignoring corrupt image/label: Label class 10 exceeds dataset class count 10. Possible class labels are 0-9\n",
      "\u001b[34m\u001b[1mtrain: \u001b[0mC:\\Users\\User\\Documents\\GitHub\\CNN_EPI\\data\\images\\train\\image1166.jpg: ignoring corrupt image/label: Label class 10 exceeds dataset class count 10. Possible class labels are 0-9\n",
      "\u001b[34m\u001b[1mtrain: \u001b[0mC:\\Users\\User\\Documents\\GitHub\\CNN_EPI\\data\\images\\train\\image1169.jpg: ignoring corrupt image/label: Label class 10 exceeds dataset class count 10. Possible class labels are 0-9\n",
      "\u001b[34m\u001b[1mtrain: \u001b[0mC:\\Users\\User\\Documents\\GitHub\\CNN_EPI\\data\\images\\train\\image1175.jpg: ignoring corrupt image/label: Label class 10 exceeds dataset class count 10. Possible class labels are 0-9\n",
      "\u001b[34m\u001b[1mtrain: \u001b[0mC:\\Users\\User\\Documents\\GitHub\\CNN_EPI\\data\\images\\train\\image1181.jpg: ignoring corrupt image/label: Label class 10 exceeds dataset class count 10. Possible class labels are 0-9\n",
      "\u001b[34m\u001b[1mtrain: \u001b[0mC:\\Users\\User\\Documents\\GitHub\\CNN_EPI\\data\\images\\train\\image1191.jpg: ignoring corrupt image/label: Label class 10 exceeds dataset class count 10. Possible class labels are 0-9\n",
      "\u001b[34m\u001b[1mtrain: \u001b[0mC:\\Users\\User\\Documents\\GitHub\\CNN_EPI\\data\\images\\train\\image1201.jpg: ignoring corrupt image/label: Label class 10 exceeds dataset class count 10. Possible class labels are 0-9\n",
      "\u001b[34m\u001b[1mtrain: \u001b[0mC:\\Users\\User\\Documents\\GitHub\\CNN_EPI\\data\\images\\train\\image1206.jpg: ignoring corrupt image/label: Label class 10 exceeds dataset class count 10. Possible class labels are 0-9\n",
      "\u001b[34m\u001b[1mtrain: \u001b[0mC:\\Users\\User\\Documents\\GitHub\\CNN_EPI\\data\\images\\train\\image1212.jpg: ignoring corrupt image/label: Label class 10 exceeds dataset class count 10. Possible class labels are 0-9\n",
      "\u001b[34m\u001b[1mtrain: \u001b[0mC:\\Users\\User\\Documents\\GitHub\\CNN_EPI\\data\\images\\train\\image1241.jpg: ignoring corrupt image/label: Label class 10 exceeds dataset class count 10. Possible class labels are 0-9\n",
      "\u001b[34m\u001b[1mtrain: \u001b[0mC:\\Users\\User\\Documents\\GitHub\\CNN_EPI\\data\\images\\train\\image1254.jpg: ignoring corrupt image/label: Label class 10 exceeds dataset class count 10. Possible class labels are 0-9\n",
      "\u001b[34m\u001b[1mtrain: \u001b[0mC:\\Users\\User\\Documents\\GitHub\\CNN_EPI\\data\\images\\train\\image1267.jpg: ignoring corrupt image/label: Label class 10 exceeds dataset class count 10. Possible class labels are 0-9\n",
      "\u001b[34m\u001b[1mtrain: \u001b[0mC:\\Users\\User\\Documents\\GitHub\\CNN_EPI\\data\\images\\train\\image1269.jpg: ignoring corrupt image/label: Label class 10 exceeds dataset class count 10. Possible class labels are 0-9\n",
      "\u001b[34m\u001b[1mtrain: \u001b[0mC:\\Users\\User\\Documents\\GitHub\\CNN_EPI\\data\\images\\train\\image1274.jpg: ignoring corrupt image/label: Label class 10 exceeds dataset class count 10. Possible class labels are 0-9\n",
      "\u001b[34m\u001b[1mtrain: \u001b[0mC:\\Users\\User\\Documents\\GitHub\\CNN_EPI\\data\\images\\train\\image1275.jpg: ignoring corrupt image/label: Label class 10 exceeds dataset class count 10. Possible class labels are 0-9\n",
      "\u001b[34m\u001b[1mtrain: \u001b[0mC:\\Users\\User\\Documents\\GitHub\\CNN_EPI\\data\\images\\train\\image1277.jpg: ignoring corrupt image/label: Label class 10 exceeds dataset class count 10. Possible class labels are 0-9\n",
      "\u001b[34m\u001b[1mtrain: \u001b[0mC:\\Users\\User\\Documents\\GitHub\\CNN_EPI\\data\\images\\train\\image1289.jpg: ignoring corrupt image/label: Label class 10 exceeds dataset class count 10. Possible class labels are 0-9\n",
      "\u001b[34m\u001b[1mtrain: \u001b[0mC:\\Users\\User\\Documents\\GitHub\\CNN_EPI\\data\\images\\train\\image1296.jpg: ignoring corrupt image/label: Label class 10 exceeds dataset class count 10. Possible class labels are 0-9\n",
      "\u001b[34m\u001b[1mtrain: \u001b[0mC:\\Users\\User\\Documents\\GitHub\\CNN_EPI\\data\\images\\train\\image1297.jpg: ignoring corrupt image/label: Label class 10 exceeds dataset class count 10. Possible class labels are 0-9\n",
      "\u001b[34m\u001b[1mtrain: \u001b[0mC:\\Users\\User\\Documents\\GitHub\\CNN_EPI\\data\\images\\train\\image1302.jpg: ignoring corrupt image/label: Label class 10 exceeds dataset class count 10. Possible class labels are 0-9\n",
      "\u001b[34m\u001b[1mtrain: \u001b[0mC:\\Users\\User\\Documents\\GitHub\\CNN_EPI\\data\\images\\train\\image1326.jpg: ignoring corrupt image/label: Label class 10 exceeds dataset class count 10. Possible class labels are 0-9\n",
      "\u001b[34m\u001b[1mtrain: \u001b[0mC:\\Users\\User\\Documents\\GitHub\\CNN_EPI\\data\\images\\train\\image1337.jpg: ignoring corrupt image/label: Label class 10 exceeds dataset class count 10. Possible class labels are 0-9\n",
      "\u001b[34m\u001b[1mtrain: \u001b[0mC:\\Users\\User\\Documents\\GitHub\\CNN_EPI\\data\\images\\train\\image1340.jpg: ignoring corrupt image/label: Label class 10 exceeds dataset class count 10. Possible class labels are 0-9\n",
      "\u001b[34m\u001b[1mtrain: \u001b[0mC:\\Users\\User\\Documents\\GitHub\\CNN_EPI\\data\\images\\train\\image1351.jpg: ignoring corrupt image/label: Label class 10 exceeds dataset class count 10. Possible class labels are 0-9\n",
      "\u001b[34m\u001b[1mtrain: \u001b[0mC:\\Users\\User\\Documents\\GitHub\\CNN_EPI\\data\\images\\train\\image1352.jpg: ignoring corrupt image/label: Label class 10 exceeds dataset class count 10. Possible class labels are 0-9\n",
      "\u001b[34m\u001b[1mtrain: \u001b[0mC:\\Users\\User\\Documents\\GitHub\\CNN_EPI\\data\\images\\train\\image1358.jpg: ignoring corrupt image/label: Label class 10 exceeds dataset class count 10. Possible class labels are 0-9\n",
      "\u001b[34m\u001b[1mtrain: \u001b[0mC:\\Users\\User\\Documents\\GitHub\\CNN_EPI\\data\\images\\train\\image1360.jpg: ignoring corrupt image/label: Label class 10 exceeds dataset class count 10. Possible class labels are 0-9\n",
      "\u001b[34m\u001b[1mtrain: \u001b[0mC:\\Users\\User\\Documents\\GitHub\\CNN_EPI\\data\\images\\train\\image1361.jpg: ignoring corrupt image/label: Label class 10 exceeds dataset class count 10. Possible class labels are 0-9\n",
      "\u001b[34m\u001b[1mtrain: \u001b[0mC:\\Users\\User\\Documents\\GitHub\\CNN_EPI\\data\\images\\train\\image187.jpg: 1 duplicate labels removed\n"
     ]
    },
    {
     "name": "stderr",
     "output_type": "stream",
     "text": [
      "\n"
     ]
    },
    {
     "name": "stdout",
     "output_type": "stream",
     "text": [
      "\u001b[34m\u001b[1mtrain: \u001b[0mNew cache created: C:\\Users\\User\\Documents\\GitHub\\CNN_EPI\\data\\labels\\train.cache\n",
      "\u001b[34m\u001b[1mval: \u001b[0mFast image access  (ping: 0.10.0 ms, read: 709.4377.1 MB/s, size: 111.6 KB)\n"
     ]
    },
    {
     "name": "stderr",
     "output_type": "stream",
     "text": [
      "\u001b[34m\u001b[1mval: \u001b[0mScanning C:\\Users\\User\\Documents\\GitHub\\CNN_EPI\\data\\labels\\test... 141 images, 0 backgrounds, 6 corrupt: 100%|███\u001b[0m"
     ]
    },
    {
     "name": "stdout",
     "output_type": "stream",
     "text": [
      "\u001b[34m\u001b[1mval: \u001b[0mC:\\Users\\User\\Documents\\GitHub\\CNN_EPI\\data\\images\\test\\image1145.jpg: ignoring corrupt image/label: Label class 10 exceeds dataset class count 10. Possible class labels are 0-9\n",
      "\u001b[34m\u001b[1mval: \u001b[0mC:\\Users\\User\\Documents\\GitHub\\CNN_EPI\\data\\images\\test\\image1178.jpg: ignoring corrupt image/label: Label class 10 exceeds dataset class count 10. Possible class labels are 0-9\n",
      "\u001b[34m\u001b[1mval: \u001b[0mC:\\Users\\User\\Documents\\GitHub\\CNN_EPI\\data\\images\\test\\image1229.jpg: ignoring corrupt image/label: Label class 10 exceeds dataset class count 10. Possible class labels are 0-9\n",
      "\u001b[34m\u001b[1mval: \u001b[0mC:\\Users\\User\\Documents\\GitHub\\CNN_EPI\\data\\images\\test\\image1235.jpg: ignoring corrupt image/label: Label class 10 exceeds dataset class count 10. Possible class labels are 0-9\n",
      "\u001b[34m\u001b[1mval: \u001b[0mC:\\Users\\User\\Documents\\GitHub\\CNN_EPI\\data\\images\\test\\image1239.jpg: ignoring corrupt image/label: Label class 10 exceeds dataset class count 10. Possible class labels are 0-9\n",
      "\u001b[34m\u001b[1mval: \u001b[0mC:\\Users\\User\\Documents\\GitHub\\CNN_EPI\\data\\images\\test\\image1264.jpg: ignoring corrupt image/label: Label class 10 exceeds dataset class count 10. Possible class labels are 0-9\n",
      "\u001b[34m\u001b[1mval: \u001b[0mNew cache created: C:\\Users\\User\\Documents\\GitHub\\CNN_EPI\\data\\labels\\test.cache\n"
     ]
    },
    {
     "name": "stderr",
     "output_type": "stream",
     "text": [
      "\n"
     ]
    }
   ],
   "source": [
    "model.train(data='dataset.yaml', epochs=50, batch=16)"
   ]
  },
  {
   "cell_type": "code",
   "execution_count": null,
   "id": "38be710c-3d29-42a9-bb24-e22ed0b98bed",
   "metadata": {},
   "outputs": [],
   "source": []
  }
 ],
 "metadata": {
  "kernelspec": {
   "display_name": "Python (yolo)",
   "language": "python",
   "name": "yolo"
  },
  "language_info": {
   "codemirror_mode": {
    "name": "ipython",
    "version": 3
   },
   "file_extension": ".py",
   "mimetype": "text/x-python",
   "name": "python",
   "nbconvert_exporter": "python",
   "pygments_lexer": "ipython3",
   "version": "3.10.16"
  }
 },
 "nbformat": 4,
 "nbformat_minor": 5
}
