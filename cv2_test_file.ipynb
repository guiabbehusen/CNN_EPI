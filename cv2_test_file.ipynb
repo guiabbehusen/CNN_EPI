{
 "cells": [
  {
   "cell_type": "code",
   "execution_count": null,
   "id": "895c16f6-ecaf-4ed6-8c03-40bba584dbe4",
   "metadata": {
    "scrolled": true
   },
   "outputs": [
    {
     "name": "stdout",
     "output_type": "stream",
     "text": [
      "\n",
      "0: 416x256 1 Funcionario, 11.8ms\n",
      "Speed: 1.4ms preprocess, 11.8ms inference, 2.0ms postprocess per image at shape (1, 3, 416, 256)\n",
      "\n",
      "0: 416x256 1 Funcionario, 12.5ms\n",
      "Speed: 1.0ms preprocess, 12.5ms inference, 2.4ms postprocess per image at shape (1, 3, 416, 256)\n",
      "\n",
      "0: 416x256 1 Funcionario, 13.1ms\n",
      "Speed: 1.1ms preprocess, 13.1ms inference, 2.1ms postprocess per image at shape (1, 3, 416, 256)\n",
      "\n",
      "0: 416x256 1 Funcionario, 14.5ms\n",
      "Speed: 0.9ms preprocess, 14.5ms inference, 2.1ms postprocess per image at shape (1, 3, 416, 256)\n",
      "\n",
      "0: 416x256 1 Capacete, 1 Funcionario, 14.4ms\n",
      "Speed: 0.9ms preprocess, 14.4ms inference, 2.4ms postprocess per image at shape (1, 3, 416, 256)\n",
      "\n",
      "0: 416x256 1 Capacete, 1 Funcionario, 12.9ms\n",
      "Speed: 1.1ms preprocess, 12.9ms inference, 2.1ms postprocess per image at shape (1, 3, 416, 256)\n",
      "\n"
     ]
    }
   ],
   "source": [
    "import cv2\n",
    "from ultralytics import YOLO\n",
    "import numpy as np\n",
    "\n",
    "model = YOLO('runs/detect/epi_test2/weights/best.pt')\n",
    "\n",
    "video_path = 'C:/Users/User/Documents/GitHub/CNN_EPI/videos/sem_capa2.mp4'\n",
    "\n",
    "output_path = 'C:/Users/User/Documents/GitHub/CNN_EPI/videos/output_video_sem_capa2.mp4'\n",
    "\n",
    "cap = cv2.VideoCapture(video_path)\n",
    "\n",
    "if not cap.isOpened():\n",
    "    print(\"erro ao abrir\")\n",
    "    exit()\n",
    "\n",
    "frame_width = int(cap.get(cv2.CAP_PROP_FRAME_WIDTH))\n",
    "frame_height = int(cap.get(cv2.CAP_PROP_FRAME_HEIGHT))\n",
    "fps = int(cap.get(cv2.CAP_PROP_FPS))\n",
    "\n",
    "fourcc = cv2.VideoWriter_fourcc(*'mp4v')\n",
    "out = cv2.VideoWriter(output_path, fourcc, fps, (frame_width, frame_height))\n",
    "while cap.isOpened():\n",
    "    ret, frame = cap.read()\n",
    "    if not ret:\n",
    "        break\n",
    "\n",
    "    results = model.predict(frame, conf=0.5)\n",
    "    annotated_frame = results[0].plot()\n",
    "\n",
    "    cv2.imshow('YOLOv8 Detection', annotated_frame)\n",
    "\n",
    "    out.write(annotated_frame)\n",
    "\n",
    "    if cv2.waitKey(1) & 0xFF == ord('q'):\n",
    "        break\n",
    "\n",
    "\n",
    "cap.release()\n",
    "out.release()\n",
    "cv2.destroyAllWindows()\n",
    "print(f\"Vídeo salvo em: {output_path}\")\n",
    "\n"
   ]
  },
  {
   "cell_type": "code",
   "execution_count": null,
   "id": "84b3c0c0-09e0-4df8-a630-f8699c05280e",
   "metadata": {},
   "outputs": [],
   "source": []
  }
 ],
 "metadata": {
  "kernelspec": {
   "display_name": "Python (yolo)",
   "language": "python",
   "name": "yolo"
  },
  "language_info": {
   "codemirror_mode": {
    "name": "ipython",
    "version": 3
   },
   "file_extension": ".py",
   "mimetype": "text/x-python",
   "name": "python",
   "nbconvert_exporter": "python",
   "pygments_lexer": "ipython3",
   "version": "3.10.16"
  }
 },
 "nbformat": 4,
 "nbformat_minor": 5
}
