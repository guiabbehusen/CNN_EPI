import cv2
from ultralytics import YOLO
import numpy as np

model = YOLO('runs/detect/epi_test2/weights/best.pt')

video_path = 'C:/Users/User/Documents/GitHub/CNN_EPI/videos/sem_capa2.mp4'

output_path = 'C:/Users/User/Documents/GitHub/CNN_EPI/videos/output_video_sem_capa2.mp4'

cap = cv2.VideoCapture(video_path)

if not cap.isOpened():
    print("erro ao abrir")
    exit()

frame_width = int(cap.get(cv2.CAP_PROP_FRAME_WIDTH))
frame_height = int(cap.get(cv2.CAP_PROP_FRAME_HEIGHT))
fps = int(cap.get(cv2.CAP_PROP_FPS))

fourcc = cv2.VideoWriter_fourcc(*'mp4v')
out = cv2.VideoWriter(output_path, fourcc, fps, (frame_width, frame_height))
while cap.isOpened():
    ret, frame = cap.read()
    if not ret:
        break

    results = model.predict(frame, conf=0.5)
    annotated_frame = results[0].plot()

    cv2.imshow('YOLOv8 Detection', annotated_frame)

    out.write(annotated_frame)

    if cv2.waitKey(1) & 0xFF == ord('q'):
        break


cap.release()
out.release()
cv2.destroyAllWindows()
print(f"Vídeo salvo em: {output_path}")





