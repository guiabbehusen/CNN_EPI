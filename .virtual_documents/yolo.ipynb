import torch
from pathlib import Path
from ultralytics import YOLO


print(torch.cuda.is_available())
print(torch.cuda.get_device_name(0)) 


dataset_yaml = """
train: C:/Users/User/Documents/GitHub/CNN_EPI/data/images/train
val: C:/Users/User/Documents/GitHub/CNN_EPI/data/images/val
test: C:/Users/User/Documents/GitHub/CNN_EPI/data/images/test

nc: 11
names: ['Capacete', 'Luvas', 'Colete', 'Botas', 'Oculos', 'Nada', 'Pessoa', 'Sem_capacete', 'Sem_oculos', 'Sem_luvas', 'Sem_botas']
"""

with open("dataset.yaml", "w") as f:
    f.write(dataset_yaml)

print("Arquivo dataset.yaml criado com sucesso!")



import os

# Caminhos dos diretórios
annotations_dir = 'C:/Users/User/Documents/GitHub/CNN_EPI/data/labels/train'  # Onde estão as anotações de treino
correct_classes = 11  # Número de classes (11, de 0 a 10)

# Função para verificar e corrigir os class_ids
def check_and_fix_annotations(directory, max_class_id):
    for filename in os.listdir(directory):
        if filename.endswith('.txt'):  # Verifique apenas arquivos .txt
            file_path = os.path.join(directory, filename)
            with open(file_path, 'r') as file:
                lines = file.readlines()
            
            corrected_lines = []
            for line in lines:
                parts = line.strip().split()
                class_id = int(parts[0])  # class_id está no início da linha
                
                # Verificar se o class_id está fora do intervalo permitido
                if class_id < 0 or class_id >= max_class_id:
                    print(f"Classe inválida encontrada no arquivo {filename}: {class_id}")
                    # Corrigir a classe (você pode querer definir um valor padrão ou remover a linha)
                    # Aqui, vamos excluir linhas com class_id inválido
                    continue
                corrected_lines.append(line)
            
            # Se alguma correção foi feita, reescreva o arquivo
            if len(corrected_lines) != len(lines):
                with open(file_path, 'w') as file:
                    file.writelines(corrected_lines)
                print(f"Correções feitas no arquivo {filename}")
            else:
                print(f"O arquivo {filename} está correto.")
                
check_and_fix_annotations(annotations_dir, correct_classes)



get_ipython().getoutput("pip install git+https://github.com/ultralytics/yolov5.git")



